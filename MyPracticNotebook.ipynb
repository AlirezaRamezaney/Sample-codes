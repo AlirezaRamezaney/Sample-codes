{
  "nbformat": 4,
  "nbformat_minor": 0,
  "metadata": {
    "colab": {
      "provenance": [],
      "authorship_tag": "ABX9TyNw2COgQY8ZAJoIFBmAp57r",
      "include_colab_link": true
    },
    "kernelspec": {
      "name": "python3",
      "display_name": "Python 3"
    },
    "language_info": {
      "name": "python"
    }
  },
  "cells": [
    {
      "cell_type": "markdown",
      "metadata": {
        "id": "view-in-github",
        "colab_type": "text"
      },
      "source": [
        "<a href=\"https://colab.research.google.com/github/AlirezaRamezaney/Sample-codes/blob/main/MyPracticNotebook.ipynb\" target=\"_parent\"><img src=\"https://colab.research.google.com/assets/colab-badge.svg\" alt=\"Open In Colab\"/></a>"
      ]
    },
    {
      "cell_type": "markdown",
      "source": [],
      "metadata": {
        "id": "8j91PPfKuP_8"
      }
    },
    {
      "cell_type": "code",
      "source": [
        "# string formating\n",
        "\"this is my number = %e\" %122\n",
        "\n",
        "print (\"hello\", end=' ')\n",
        "print (\"world\")\n",
        "\n",
        "list1=[1, 2, 3, 4]\n",
        "list2=list1.copy()\n",
        "list2.pop()\n",
        "print(list1)\n",
        "print(list2)\n",
        "print (\"my name is {}\".format(3*24))"
      ],
      "metadata": {
        "id": "BB7Y1340b-R2"
      },
      "execution_count": null,
      "outputs": []
    },
    {
      "cell_type": "code",
      "source": [
        "# a good practice\n",
        "num = int(input('enter your number'))\n",
        "for j in range(num):\n",
        "  i=1\n",
        "  print (2*(num-j)*' ', end='')\n",
        "  while i<=j:\n",
        "    print(i, end=' ')\n",
        "    i+=1\n",
        "  while i>=1:\n",
        "    print(i, end=' ')\n",
        "    i-=1\n",
        "  print ('\\n')"
      ],
      "metadata": {
        "id": "qUp_5DmLuRNa"
      },
      "execution_count": null,
      "outputs": []
    },
    {
      "cell_type": "code",
      "source": [
        "# OOP Encapsulating\n",
        "#Private variables can not be called or changed outside of the class\n",
        "#except we using the class defined methods for them\n",
        "class Computer:\n",
        "    def __init__(self,y):\n",
        "        self.y = y\n",
        "        self.__maxprice = 900             #Private variables\n",
        "\n",
        "    def sell(self):\n",
        "        print(\"Selling Price: {}\".format(self.__maxprice))\n",
        "\n",
        "    def setMaxPrice(self, price):\n",
        "        self.__maxprice = price\n",
        "\n",
        "c = Computer(10)\n",
        "c.sell()\n",
        "\n",
        "# change the price\n",
        "c.__maxprice = 1000\n",
        "c.sell()\n",
        "\n",
        "# using setter function\n",
        "c.setMaxPrice(1000)\n",
        "c.sell()\n",
        "print(c.__maxprice)"
      ],
      "metadata": {
        "id": "rPZRSRY2cptn"
      },
      "execution_count": null,
      "outputs": []
    },
    {
      "cell_type": "code",
      "source": [
        "#object oriented\n",
        "class vector:\n",
        "  def __init__(self, x, y):\n",
        "    self.x = x\n",
        "    self.y = y\n",
        "  dim = 2\n",
        "  kind = 'array'\n",
        "  def __add__(self, other):\n",
        "    return vector(self.x + 2*other.x, self.y + 2*other.y)\n",
        "  @classmethod\n",
        "  def double(cls, x):\n",
        "    return cls(x, 2*x)\n",
        "  @staticmethod\n",
        "  def sum(v):\n",
        "    return v.x + v.y\n",
        "  def __str__(self):\n",
        "    return 'vec({0},{1})'.format(self.x, self.y)\n",
        "\n",
        "class vector3(vector):\n",
        "  def __init__(self, x, y, z):\n",
        "    self.z = z\n",
        "    super().__init__(x, y)\n",
        "    print('new vector is build: {}'.format(self))\n",
        "  def __add__(self, other):\n",
        "    return vector3(self.x + 2*other.x, self.y + 2*other.y, self.z + 2*other.z)\n",
        "\n",
        "\n",
        "A = vector(8, 2)\n",
        "B = vector(1, 3)\n",
        "D = vector.double(8)\n",
        "print(D)\n",
        "print(vector.sum(D))\n",
        "print(A.dim)\n",
        "C = A + B\n",
        "print(C.x)\n",
        "print(C)\n",
        "\n",
        "E = vector3(2, 3, 1)\n",
        "F = vector3(5, 1, 2)\n",
        "G = E + F\n",
        "print(G.z)\n",
        "print(vector3.sum(F))\n"
      ],
      "metadata": {
        "id": "4PB4DQSeJyLD"
      },
      "execution_count": null,
      "outputs": []
    },
    {
      "cell_type": "code",
      "source": [
        "# OOP for logger\n",
        "\n",
        "class loggerme:\n",
        "  def __init__(self, name, id):\n",
        "    self.name = name\n",
        "    self.id = id\n",
        "    print('Hi dear {}-{}'.format(self.name, self.id))\n",
        "  def time(self):\n",
        "    inp = input('Enter Time \\n')\n",
        "    return inp\n",
        "  def Date(self):\n",
        "    inp = input('Enter Date \\n')\n",
        "    return inp\n",
        "  def phone_no(self):\n",
        "    inp = input('Enter your number \\n')\n",
        "    return inp\n",
        "  def address(self):\n",
        "    inp = input('Enter your address \\n')\n",
        "    return inp\n",
        "  def doc(self):\n",
        "    inp = input('Enter your information \\n')\n",
        "    return inp\n",
        "  def logg(self, *args):\n",
        "    temp = []\n",
        "    for i in args:\n",
        "      temp.append(i)\n",
        "    return temp\n",
        "  def print_logg(self, Y):\n",
        "    print('{2} is entered by {0}-{1}'.format(self.name, self.id, Y))\n",
        "  def save_logg(self, Y, filename):\n",
        "    with open('{}.text'.format(filename),'w') as ff:\n",
        "      ff.write('-'.join(Y))\n",
        "  def __str__(self):\n",
        "    return self.name + '_{}'.format(self.id)\n",
        "\n",
        "aa = loggerme('Ali', 7)\n",
        "print (aa)\n",
        "b = aa.time()\n",
        "c = aa.doc()\n",
        "e = aa.phone_no()\n",
        "f = aa.address()\n",
        "d = aa.logg(b, c, f)\n",
        "aa.print_logg(d)\n",
        "aa.save_logg(d, 'output')"
      ],
      "metadata": {
        "id": "b3xwsoKSnDSc"
      },
      "execution_count": null,
      "outputs": []
    },
    {
      "cell_type": "code",
      "source": [
        "# numpy starting\n",
        "import numpy as np\n",
        "\n",
        "arr= np.random.randint(10,20, (3,4))\n",
        "print (arr)\n",
        "b= np.arange(1,13).reshape(3,4)\n",
        "print(b)\n",
        "e=b[:,[1,3]]\n",
        "c=b[[1,2],[1,3]]\n",
        "print(e)"
      ],
      "metadata": {
        "id": "Dqe7n7Lriar_"
      },
      "execution_count": null,
      "outputs": []
    },
    {
      "cell_type": "code",
      "source": [
        "#some statistic with numpy\n",
        "import numpy as np\n",
        "from scipy import stats as st\n",
        "\n",
        "aa=np.array([1, 1, 1, 2, 2, 3, 4, 4, 6, 8, 8, 8, 13, 17])\n",
        "bb=np.linspace(0, 20, 20).reshape(4,5)\n",
        "print ('mean = {}'.format(aa.mean()))\n",
        "print ('mod = {}'.format(st.mode(aa)))\n",
        "print ('median = {}'.format(np.median(aa)))\n",
        "print ('min = {}'.format(bb.min(-1)))        #axis = 1\n",
        "print ('sum = {}'.format(bb.sum()))\n",
        "print ('third quantile = {}'.format(np.quantile(aa,0.75)))"
      ],
      "metadata": {
        "id": "2T4bcGextF0S"
      },
      "execution_count": null,
      "outputs": []
    },
    {
      "cell_type": "code",
      "source": [
        "# matrix multiplication with numpy\n",
        "import numpy as np\n",
        "def mat_mul (A, B):\n",
        "  C=np.zeros([A.shape[0],B.shape[1]])\n",
        "  for i in range(A.shape[0]):\n",
        "    for j in range(B.shape[1]):\n",
        "      C[i,j] = np.sum(A[i,:]*(B[:,j]))  # sum of two 1d array\n",
        "  return C\n",
        "\n",
        "Mat_1 = np.array([[1, 1, 3],[0, 2, 1],[2, 0, 4],[1, 2, 3]])\n",
        "Mat_2 = np.array([[2, 1, 0],[1, 1, 2],[3, 1, 1]])\n",
        "\n",
        "print (mat_mul(Mat_1, Mat_2))\n",
        "print (np.matmul(Mat_1, Mat_2))\n",
        "\n",
        "# probably we can not build matrix mul with broadcasting\n",
        "AA = np.sum(Mat_1[:, np.newaxis,:]*Mat_2[np.newaxis, :], axis=-1)\n",
        "print(AA)\n",
        "\n",
        "# a = np.array([[1,2,3]])\n",
        "# b = np.array([[0],[2],[1]])\n",
        "# print (np.shape(a*b))"
      ],
      "metadata": {
        "id": "NfSKaK6r4wEe"
      },
      "execution_count": null,
      "outputs": []
    },
    {
      "cell_type": "code",
      "source": [
        "# numpy indexing\n",
        "import numpy as np\n",
        "\n",
        "A = np.array([[3, 12, 1, 5, 5],\n",
        "              [1, 3, 0, 9, 4],\n",
        "              [12, 6, 6, 8, 2],\n",
        "              [3, 1, 10, 4, 4]])\n",
        "\n",
        "B = A[[0,2], 1:4]   # type1\n",
        "C = A[np.array([[0, 1],[2,3]]), np.array([[1, 3],[2,4]])]   # type2\n",
        "C2 = A[[[0,1],[2,3]],[[1, 3],[2,4]]]\n",
        "D = A[np.ix_([0, 2], [2, 4])]   # type3\n",
        "E = A[[0,3]]\n",
        "F = A[[True, False, False, True], :3]  # type4\n",
        "G = A[np.ix_([True, False, True, True], [True, True, False, False])]\n",
        "H = A[np.ix_([True, False, True], [True, True])]\n",
        "I = A[A.sum(1)>23, 1:3]\n",
        "J = A[np.ix_(A.sum(1)>23, [1, 3])]\n",
        "K = A[:, A.sum(0)%2 ==0]\n",
        "A[A>8]=A[A>8]+1\n",
        "print(A)\n",
        "\n",
        "A2 = np.array([[3, 12, 1, 5],\n",
        "              [1, np.nan, 0, 9],\n",
        "              [12, 6, 6, np.nan],\n",
        "              [3, np.nan, 10, 4]])\n",
        "A3 = np.copy(A2)\n",
        "L = A2[~np.isnan(A2)]  # isnan return logical matrix consists of Trues and Falses\n",
        "\n",
        "# substituting all nans with mean of all values\n",
        "A3[np.isnan(A3)] = np.mean(A3[~np.isnan(A3)])\n",
        "\n",
        "\n",
        "# substituting nan of each fields with mean of correspond column\n",
        "for n in range(A2.shape[1]):\n",
        "  M = A2[:,n]\n",
        "  A2[np.isnan(M),n] = np.mean(M[~np.isnan(M)])\n",
        "\n",
        "# using where method to maintain the shape of matrix\n",
        "N = A > 7\n",
        "O = A[N]   # it does not return the shape of the A\n",
        "P = np.where(A>9, A, 0)\n",
        "cond = np.logical_and((A>6),(A<13))\n",
        "Q = A[cond]\n",
        "R = np.where(~cond, A, np.nan)\n",
        "\n",
        "\n",
        "print(C)\n"
      ],
      "metadata": {
        "id": "mhjJr95sB4ur"
      },
      "execution_count": null,
      "outputs": []
    },
    {
      "cell_type": "code",
      "source": [
        "#broadcasting 1\n",
        "import numpy as np\n",
        "\n",
        "a=np.array([1, 2, 2, 4])\n",
        "b=np.array([3, 0, 1])\n",
        "d= a[:, np.newaxis] + b[np.newaxis]\n",
        "print (np.shape(d))\n",
        "print (f'd is equal \\n {d}')\n",
        "try:\n",
        "  c=a+b\n",
        "  print (f'c is equal {c}')\n",
        "except:\n",
        "  print('the dimensions are not matched')\n"
      ],
      "metadata": {
        "id": "SFPgyQ31U4RP"
      },
      "execution_count": null,
      "outputs": []
    },
    {
      "cell_type": "code",
      "source": [
        "#broadcasting 2\n",
        "from numpy import array, argmin, sqrt, sum\n",
        "observation = array([111.0, 188.0])\n",
        "codes = array([[102.0, 203.0],\n",
        "               [132.0, 193.0],\n",
        "               [45.0, 155.0],\n",
        "               [57.0, 173.0]])\n",
        "diff = codes - observation    # the broadcast happens here\n",
        "dist = sqrt(sum(diff**2,axis=-1))\n",
        "print (dist)\n",
        "argmin(dist)"
      ],
      "metadata": {
        "id": "0sdkrcRFSy8m"
      },
      "execution_count": null,
      "outputs": []
    },
    {
      "cell_type": "code",
      "source": [
        "# broadcasting 3\n",
        "import numpy as np\n",
        "\n",
        "np.random.seed(4)\n",
        "a = np.random.randint(0, 10, (4, 5))\n",
        "b = np.random.randint(0, 10, (4, 5))\n",
        "print(f'a is : \\n {a} ')\n",
        "print(f'b is : \\n {b} ')\n",
        "\n",
        "#calculate using broadcasting\n",
        "c = a[:, np.newaxis]\n",
        "d= b[np.newaxis]\n",
        "f=c+d\n",
        "print (np.shape(c))\n",
        "print (np.shape(d))\n",
        "print (f'f is : \\n {f} ')\n",
        "\n",
        "#calculate using for loop\n",
        "for_loop_c = np.zeros((a.shape[0], b.shape[0], a.shape[1]))\n",
        "for i in range(a.shape[0]):\n",
        "    for j in range(b.shape[0]):\n",
        "        for_loop_c[i, j] = a[i] + b[j]\n",
        "print(print (f'for_loop_c is : \\n {for_loop_c} '))"
      ],
      "metadata": {
        "id": "QXfOkF2iEH46"
      },
      "execution_count": null,
      "outputs": []
    },
    {
      "cell_type": "code",
      "source": [
        "#broadcasting 4\n",
        "import numpy as np\n",
        "\n",
        "np.random.seed(40)\n",
        "obbs = np.random.randint(0, 2, (20, 8))\n",
        "points = np.random.randint(0, 2, (30, 2))\n",
        "A0 = obbs[:, 2:4] # direction in i\n",
        "A1 = obbs[:, 4:6] # direction in j\n",
        "a0 = obbs[:, 6]\t  # half length in A0 direction. this is a 1D array not 2D\n",
        "a1 = obbs[:, 7]\t  # half length in A1 direction\n",
        "c_point = points[:, np.newaxis] - obbs[np.newaxis, :, 0:2]\n",
        "c_point_A0_proj = np.sum(c_point * A0, axis=-1)\n",
        "c_point_A1_proj = np.sum(c_point * A1, axis=-1)\n",
        "result = (np.abs(c_point_A0_proj) < a0) * (np.abs(c_point_A1_proj) < a1)\n",
        "print(c_point_A0_proj.shape)\n",
        "print(result)\n"
      ],
      "metadata": {
        "id": "Mh7lJ0VXRjH2"
      },
      "execution_count": null,
      "outputs": []
    },
    {
      "cell_type": "code",
      "source": [
        "#broadcasting 5\n",
        "import numpy as np\n",
        "\n",
        "np.random.seed(32)\n",
        "observs = np.random.randint(4, 8, size=(5,2))\n",
        "points = np.random.randint(0, 3, size=(10,2))\n",
        "dist = observs[:, np.newaxis] - points[np.newaxis]\n",
        "norm_dist = np.sqrt((dist**2).sum(-1))\n",
        "min_dist = norm_dist.min(-1)\n",
        "print(min_dist)\n",
        "\n",
        "# evalutaing our method\n",
        "d_total = []\n",
        "for j in range(5):\n",
        "    d = []\n",
        "    for i in range(10):\n",
        "        s = observs[j, :] - points[i, :]\n",
        "        dist = np.sqrt(s[0]**2+s[1]**2)\n",
        "        d.append(dist)\n",
        "    d_total.append(np.min(d))\n",
        "print (d_total)\n"
      ],
      "metadata": {
        "id": "nJaSKZASiiWE"
      },
      "execution_count": null,
      "outputs": []
    },
    {
      "cell_type": "code",
      "source": [
        "# pandas perliminaries\n",
        "import pandas as pd\n",
        "import numpy as np\n",
        "import matplotlib.pyplot as plt\n",
        "\n",
        "s1 = pd.Series(['john', 'david', 'petros', 'ali', 'holand', 'adrian', 'peter', 'jack', 'cam'])\n",
        "s2= pd.Series([28, 32, 19, 22, 19, 32, 27, 24, 22])\n",
        "s3= pd.Series([1, 2, 1, 1, 2, 2, 1, 2, 1])\n",
        "s4=pd.Series([14, 19, 12, 16, 17, 10, 15, 14, 12])\n",
        "df= pd.DataFrame({'name':s1, 'age':s2, 'class':s3, 'score':s4})\n",
        "np.random.seed(40)\n",
        "df_other = pd.DataFrame(np.random.randint(1, 10, size=[4,4]), columns=['a','b','c','d'])\n",
        "print (df_other)\n",
        "df.head(10)\n",
        "print(df[['class','score', 'age']].groupby('class').mean())\n",
        "df.head(10)\n",
        "df['param']=df['age']/2 + df['score']\n",
        "df.head(10)\n",
        "new_func = lambda x:x**2 - 3*x\n",
        "df['param2']=new_func(df['age'])\n",
        "df.head(10)\n",
        "df2 = df.loc[(df['age']>25)& (df['name'].str.contains('a'))]\n",
        "print(df2)\n",
        "df3=df.drop(columns =['param2'])\n",
        "print(df3)\n",
        "df[['age', 'score']].plot(lw=2, ls='-.')\n",
        "print('mean is {}'.format(df['score'].mean()))\n",
        "\n",
        "# dealing with missing values\n",
        "df_other.iloc[[0,1],0]=None #or  df_other.loc[[0,1],'a']=None\n",
        "df_other['a'] = df_other['a'].fillna(df_other['a'].mean())\n",
        "print(df_other)"
      ],
      "metadata": {
        "id": "uaz_d7uMq4hd"
      },
      "execution_count": null,
      "outputs": []
    },
    {
      "cell_type": "code",
      "source": [
        "# plot with matplot\n",
        "import pandas as pd\n",
        "import numpy as np\n",
        "import matplotlib.pyplot as plt\n",
        "\n",
        "x1= np.arange(1,10,0.5)\n",
        "x2= x1**2\n",
        "x3=x1**3\n",
        "plt.figure(figsize=[5, 4])\n",
        "plt.subplot(1,2,1)\n",
        "plt.plot(x1[:14],x2[:14], c='g', lw=2, marker='o', label='$X^2$')\n",
        "plt.plot(x1[13:],x2[13:], c='g', lw=0.5, marker='^', ls=':', label='$X^2$')\n",
        "plt.legend()\n",
        "plt.subplot(1,2,2)\n",
        "plt.plot(x1,x3, c='r', lw=2, marker='o', label='$X^3$', ms=5)\n",
        "plt.legend()\n",
        "plt.show()"
      ],
      "metadata": {
        "id": "PdnqJ9e--ZVp"
      },
      "execution_count": null,
      "outputs": []
    },
    {
      "cell_type": "code",
      "source": [
        "# plot with matplot on ax\n",
        "import pandas as pd\n",
        "import numpy as np\n",
        "import matplotlib.pyplot as plt\n",
        "\n",
        "fonts={'color':'blue', 'size':14}\n",
        "\n",
        "x = np.linspace(0, 2, 100)\n",
        "# Note that even in the OO-style, we use `.pyplot.figure` to create the Figure.\n",
        "fig, ax = plt.subplots(2,1, figsize=(5, 4), layout='constrained')\n",
        "ax[0].plot(x, x, label='linear',c='g', lw=0.5)  # Plot some data on the axes.\n",
        "ax[0].plot(x, x**2, label='quadratic')  # Plot more data on the axes...\n",
        "ax[0].plot(x, x**3, label='cubic')  # ... and some more.\n",
        "#ax[0].set_xlabel('x label')  # Add an x-label to the axes.\n",
        "ax[0].set_ylabel('y label', fontdict=fonts)  # Add a y-label to the axes.\n",
        "ax[0].set_title(\"Simple Plot\")  # Add a title to the axes.\n",
        "ax[0].text(0.8, 6, 'POL')\n",
        "ax[0].grid(color='r', linestyle='-.', linewidth=0.35)\n",
        "ax[0].legend()\n",
        "\n",
        "ax[1].plot(x, x, label='linear')\n",
        "ax[1].plot(x, 2*x, label='slop=2')\n",
        "ax[1].plot(x, 5*x+2, label='slop=3')\n",
        "ax[1].set_xlabel('x label')\n",
        "ax[1].set_ylabel('y label')\n",
        "#ax[1].set_title(\"Simple Plot2\")\n",
        "ax[1].grid(color='r', linestyle='-.', linewidth=0.35)\n",
        "ax[1].legend()\n",
        "\n",
        "plt.savefig('myfig.png')"
      ],
      "metadata": {
        "id": "1h9cl21qCtuf"
      },
      "execution_count": null,
      "outputs": []
    },
    {
      "cell_type": "code",
      "source": [
        "# plot matrix with matplot\n",
        "import numpy as np\n",
        "import matplotlib.pyplot as plt\n",
        "\n",
        "M = np.array([[1, 2, 5], [3, 1, 6], [1, 2, 1]])\n",
        "com = M/(M.sum(1)[:, np.newaxis])\n",
        "print(com)\n",
        "plt.figure(figsize=(3,5))\n",
        "plt.matshow(com, cmap=plt.cm.Blues)\n",
        "plt.colorbar()\n",
        "for i in range(com.shape[0]):\n",
        "  for j in range(com.shape[1]):\n",
        "    plt.text(j,i, '{}'.format(com[i,j]))\n",
        "plt.show()"
      ],
      "metadata": {
        "id": "fbGMpu5V9NG5"
      },
      "execution_count": null,
      "outputs": []
    },
    {
      "cell_type": "code",
      "source": [
        "# plotting contourf using meshgrid\n",
        "import numpy as np\n",
        "import matplotlib.pyplot as plt\n",
        "\n",
        "x = np.linspace(-20, 20, 100)\n",
        "y = np.linspace(-20, 20, 100)\n",
        "xx, yy = np.meshgrid(x, y)      #  xx and yy have shape=(100,100)\n",
        "print (xx.shape)\n",
        "input = np.stack((np.transpose(xx.ravel()), np.transpose(yy.ravel())), axis=1)\n",
        "output = input[:,0]**2+2*input[:,1]**2\n",
        "z= output.reshape(xx.shape)\n",
        "plt.contourf(xx, yy, z, cmap=plt.cm.RdYlBu)"
      ],
      "metadata": {
        "id": "K77cc_J1JyXp"
      },
      "execution_count": null,
      "outputs": []
    },
    {
      "cell_type": "code",
      "source": [
        "#sampling\n",
        "from sklearn.utils import resample\n",
        "import numpy as np\n",
        "\n",
        "np.random.seed(17)\n",
        "a = np.arange(4,20)\n",
        "b = np.random.choice(a, 6)\n",
        "b2 = resample(a, n_samples=9, replace=False)\n",
        "print(b,'\\n', b2)"
      ],
      "metadata": {
        "id": "GZWPQ50HhQwC"
      },
      "execution_count": null,
      "outputs": []
    },
    {
      "cell_type": "code",
      "source": [
        "# dealing with missing values\n",
        "import numpy as np\n",
        "\n",
        "A2 = np.array([[3, 12, 1, 5],\n",
        "              [1, np.nan, 0, 9],\n",
        "              [12, 6, 6, np.nan],\n",
        "              [3, np.nan, 10, 4]])\n",
        "A3 = np.copy(A2)\n",
        "L = A2[~np.isnan(A2)]  # isnan return logical array consists of Trues and Falses\n",
        "\n",
        "# substituting all nans with mean of all values\n",
        "A3[np.isnan(A3)] = np.mean(A3[~np.isnan(A3)])\n",
        "#or\n",
        "#N = np.where(~np.isnan(A3), A3, 0)\n",
        "\n",
        "\n",
        "# substituting nan of each fields with mean of correspond column\n",
        "for n in range(A2.shape[1]):\n",
        "  M = A2[:,n]\n",
        "  A2[np.isnan(M),n] = np.mean(M[~np.isnan(M)])\n",
        "\n",
        "\n",
        "print(A2)"
      ],
      "metadata": {
        "id": "gsoM8K8MF9UC"
      },
      "execution_count": null,
      "outputs": []
    },
    {
      "cell_type": "code",
      "source": [
        "# dealing with outlayers\n",
        "import numpy as np\n",
        "import matplotlib.pyplot as plt\n",
        "\n",
        "\n",
        "np.random.seed(11)\n",
        "observs= np.random.randint(200, 600, size=(150, 4))\n",
        "outlayer = np.array([[215, 850, 310, 10]])\n",
        "observs = np.vstack((observs, outlayer))  # observetions include 1 outlayer\n",
        "# q1 = [np.quantile(observs[:,n], 0.25) for n in range(observs.shape[1])]\n",
        "# q3 = [np.quantile(observs[:,n], 0.75) for n in range(observs.shape[1])]\n",
        "q1 = np.quantile(observs, 0.25, axis=0)\n",
        "q3 = np.quantile(observs, 0.75, axis=0)\n",
        "iqr = np.array(q3) -np.array(q1)\n",
        "lower = q1-(iqr*1.5)\n",
        "upper = q3+(iqr*1.5)\n",
        "#lu = np.hstack((lower[:,np.newaxis], upper[:,np.newaxis]))\n",
        "#print (lu)\n",
        "AA = (observs > upper)+(observs < lower)  # using broadcasting\n",
        "#print (AA)\n",
        "\n",
        "# using logical indexing via matrix AA in following for loop\n",
        "for n in range(observs.shape[1]):\n",
        "  observs[list(AA[:,n]), n] = np.median(observs[:,n])\n",
        "\n",
        "print(observs)\n",
        "\n",
        "\n",
        "bp = plt.boxplot(observs)\n",
        "mywhiskers = [items.get_ydata()[1] for items in bp['whiskers']]\n",
        "mywhiskers = np.array(mywhiskers).reshape(len(bp['medians']),2)\n",
        "print(mywhiskers)\n"
      ],
      "metadata": {
        "id": "FGGa0BQj6yvg"
      },
      "execution_count": null,
      "outputs": []
    },
    {
      "cell_type": "code",
      "source": [
        "#normalizing data\n",
        "import pandas as pd\n",
        "import numpy as np\n",
        "from sklearn.preprocessing import normalize\n",
        "\n",
        "s1 = pd.Series(['john', 'david', 'petros', 'ali', 'holand', 'adrian', 'peter', 'jack', 'cam'])\n",
        "s2= pd.Series([28, 32, 19, 22, 19, 32, 27, 24, 22])\n",
        "s3= pd.Series([1, 2, 1, 1, 2, 2, 1, 2, 1])\n",
        "s4=pd.Series([8, 19, 12, 16, 17, 10, 15, 14, 18])\n",
        "df= pd.DataFrame({'name':s1, 'age':s2, 'class':s3, 'score':s4})\n",
        "\n",
        "# normalizing all columns\n",
        "df_num = df.drop(columns='name')\n",
        "d = normalize(df_num, axis=0)                        #d is a numpy array\n",
        "scaled_df = pd.DataFrame(d, columns=df_num.columns)\n",
        "scaled_df['name'] = df['name']\n",
        "print (scaled_df)\n",
        "\n",
        "# normalizing score column using numpy\n",
        "x_array = np.array(df['score'])\n",
        "x_norm = normalize([x_array])\n",
        "print(x_norm.shape)\n",
        "df['score'] = np.squeeze(x_norm)\n",
        "\n",
        "# one hot encoding\n",
        "# pd.get_dummies or tf.one_hot\n",
        "df_one_hot = pd.get_dummies(df)\n",
        "print (df_one_hot)\n"
      ],
      "metadata": {
        "id": "6_FF-ifv3zos"
      },
      "execution_count": null,
      "outputs": []
    },
    {
      "cell_type": "code",
      "source": [
        "# pandas DataFrame to Numpy array is possible\n",
        "import pandas as pd\n",
        "import numpy as np\n",
        "from sklearn.preprocessing import normalize\n",
        "\n",
        "s1 = pd.Series(['john', 'david', 'petros', 'ali', 'holand', 'adrian', 'peter', 'jack', 'cam'])\n",
        "s2= pd.Series([28, 32, 19, 22, 19, 32, 27, 24, 22])\n",
        "s3= pd.Series([1, 2, 1, 1, 2, 2, 1, 2, 1])\n",
        "s4=pd.Series([8, 19, 12, 16, 17, 10, 15, 14, 18])\n",
        "df= pd.DataFrame({'name':s1, 'age':s2, 'class':s3, 'score':s4})\n",
        "\n",
        "a = np.array(df.drop(columns='name'))\n",
        "print (a)"
      ],
      "metadata": {
        "id": "Ey-ip3-hGar8"
      },
      "execution_count": null,
      "outputs": []
    }
  ]
}